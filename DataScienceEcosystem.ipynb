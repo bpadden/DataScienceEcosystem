{
 "cells": [
  {
   "cell_type": "markdown",
   "id": "ddbe7d73",
   "metadata": {},
   "source": [
    "# Data Science Tools and Ecosystem"
   ]
  },
  {
   "cell_type": "markdown",
   "id": "68dc0eb1",
   "metadata": {},
   "source": [
    "In this notebook, data science tools and ecosystem are summarized"
   ]
  },
  {
   "cell_type": "markdown",
   "id": "86b5a409",
   "metadata": {},
   "source": [
    "Some of the popular languages that data scientists use are:\n",
    "\n",
    "1. Python\n",
    "2. R\n",
    "3. Scala"
   ]
  },
  {
   "cell_type": "markdown",
   "id": "42a03373",
   "metadata": {},
   "source": [
    "Some of the commonly used libraries that Data Scientists use include:\n",
    "    \n",
    "1. ggplot\n",
    "2. dplyr\n",
    "3. Stringr\n",
    "4. Plotly"
   ]
  },
  {
   "cell_type": "markdown",
   "id": "6d9e2333",
   "metadata": {},
   "source": [
    "|Data Science Tools|\n",
    "|-------|\n",
    "|Git|\n",
    "|Lattice|\n",
    "|Pandas|\n",
    "|Supervised learning|"
   ]
  },
  {
   "cell_type": "markdown",
   "id": "1fa2e8dd",
   "metadata": {},
   "source": [
    "### Below are a few examples of evaluating arithmetic expressions in Python"
   ]
  },
  {
   "cell_type": "code",
   "execution_count": 1,
   "id": "5cb61fd6",
   "metadata": {},
   "outputs": [
    {
     "data": {
      "text/plain": [
       "22"
      ]
     },
     "execution_count": 1,
     "metadata": {},
     "output_type": "execute_result"
    }
   ],
   "source": [
    "# This is a simple expression to multiply and then add integers\n",
    "\n",
    "(3*5)+7"
   ]
  },
  {
   "cell_type": "code",
   "execution_count": 2,
   "id": "58ebc95b",
   "metadata": {},
   "outputs": [
    {
     "data": {
      "text/plain": [
       "3.3333333333333335"
      ]
     },
     "execution_count": 2,
     "metadata": {},
     "output_type": "execute_result"
    }
   ],
   "source": [
    "# This will convert 200 minutes to hours by dividing by 60\n",
    "\n",
    "200/60"
   ]
  },
  {
   "cell_type": "markdown",
   "id": "a2118d81",
   "metadata": {},
   "source": [
    "# Objectives\n",
    "\n",
    "+ Using markdown\n",
    "+ Evaluating arithemetic expressions\n",
    "+ Making tables in Markdown\n",
    "+ Making ordered lists in Markdown\n",
    "+ List popular languages for data science"
   ]
  },
  {
   "cell_type": "markdown",
   "id": "ad9ebb98",
   "metadata": {},
   "source": [
    "## Author\n",
    "\n",
    "Brian Padden"
   ]
  },
  {
   "cell_type": "code",
   "execution_count": null,
   "id": "133c7d8c",
   "metadata": {},
   "outputs": [],
   "source": []
  }
 ],
 "metadata": {
  "kernelspec": {
   "display_name": "Python 3 (ipykernel)",
   "language": "python",
   "name": "python3"
  },
  "language_info": {
   "codemirror_mode": {
    "name": "ipython",
    "version": 3
   },
   "file_extension": ".py",
   "mimetype": "text/x-python",
   "name": "python",
   "nbconvert_exporter": "python",
   "pygments_lexer": "ipython3",
   "version": "3.11.5"
  }
 },
 "nbformat": 4,
 "nbformat_minor": 5
}
